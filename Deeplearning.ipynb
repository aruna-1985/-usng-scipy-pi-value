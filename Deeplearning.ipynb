{
  "nbformat": 4,
  "nbformat_minor": 0,
  "metadata": {
    "colab": {
      "name": "Deeplearning.ipynb",
      "provenance": [],
      "authorship_tag": "ABX9TyNrT0RJLA7HXEixEAil0Z1e",
      "include_colab_link": true
    },
    "kernelspec": {
      "name": "python3",
      "display_name": "Python 3"
    }
  },
  "cells": [
    {
      "cell_type": "markdown",
      "metadata": {
        "id": "view-in-github",
        "colab_type": "text"
      },
      "source": [
        "<a href=\"https://colab.research.google.com/github/aruna20200/-usng-scipy-pi-value/blob/master/Deeplearning.ipynb\" target=\"_parent\"><img src=\"https://colab.research.google.com/assets/colab-badge.svg\" alt=\"Open In Colab\"/></a>"
      ]
    },
    {
      "cell_type": "code",
      "metadata": {
        "id": "XwTrm849ZOwy"
      },
      "source": [
        "###Basics  of  MLP\r\n",
        "##Objective: create vanilla neural networks (i.e., Multilayer perceptrons) for simple regression/classification tasks with Keras\r\n",
        "##MLP Structures\r\n",
        "##Each MLP model is consisted of one input layer, several hidden layers, and one output layer\r\n",
        "##Number of neurons in each layer is not limited\r\n"
      ],
      "execution_count": null,
      "outputs": []
    },
    {
      "cell_type": "code",
      "metadata": {
        "id": "vANhEBTddcwf"
      },
      "source": [
        "##MLP for Regression tasks"
      ],
      "execution_count": null,
      "outputs": []
    },
    {
      "cell_type": "code",
      "metadata": {
        "id": "eoaZgr59dc0O"
      },
      "source": [
        "#When the target (y) is continuous (real)\r\n",
        "#For loss function and evaluation metric, mean squared error (MSE) is commonly used"
      ],
      "execution_count": null,
      "outputs": []
    },
    {
      "cell_type": "code",
      "metadata": {
        "id": "KikfpOhXeIfJ"
      },
      "source": [
        "from keras.datasets import boston_housing"
      ],
      "execution_count": null,
      "outputs": []
    },
    {
      "cell_type": "code",
      "metadata": {
        "colab": {
          "base_uri": "https://localhost:8080/"
        },
        "id": "g1EHoG-EeI2l",
        "outputId": "3d3e7fe7-2c3b-4440-e2b1-772853c8c88b"
      },
      "source": [
        "(X_train, y_train), (X_test, y_test) = boston_housing.load_data()"
      ],
      "execution_count": null,
      "outputs": [
        {
          "output_type": "stream",
          "text": [
            "Downloading data from https://storage.googleapis.com/tensorflow/tf-keras-datasets/boston_housing.npz\n",
            "57344/57026 [==============================] - 0s 0us/step\n"
          ],
          "name": "stdout"
        }
      ]
    },
    {
      "cell_type": "code",
      "metadata": {
        "id": "jiLF7D_nefxx"
      },
      "source": [
        "##Dataset Description\r\n",
        "##Boston housing dataset has total 506 data instances (404 training & 102 test)\r\n",
        "##13 attributes (features) to predict \"the median values of the houses at a location\"\r\n",
        "##Doc: https://keras.io/datasets/"
      ],
      "execution_count": null,
      "outputs": []
    },
    {
      "cell_type": "code",
      "metadata": {
        "colab": {
          "base_uri": "https://localhost:8080/"
        },
        "id": "QabimMZXe_qD",
        "outputId": "6b5efe91-17b5-415e-fae8-96b3b2b40a36"
      },
      "source": [
        "print(X_train.shape)\r\n",
        "print(X_test.shape)\r\n",
        "print(y_train.shape)\r\n",
        "print(y_test.shape)"
      ],
      "execution_count": null,
      "outputs": [
        {
          "output_type": "stream",
          "text": [
            "(404, 13)\n",
            "(102, 13)\n",
            "(404,)\n",
            "(102,)\n"
          ],
          "name": "stdout"
        }
      ]
    },
    {
      "cell_type": "code",
      "metadata": {
        "id": "2_byddm5e_tO"
      },
      "source": [
        "#1. Creating a model\r\n",
        "#Keras model object can be created with Sequential class\r\n",
        "#At the outset, the model is empty per se. It is completed by 'adding' additional layers and compilation\r\n",
        "#Doc: https://keras.io/models/sequential/"
      ],
      "execution_count": null,
      "outputs": []
    },
    {
      "cell_type": "code",
      "metadata": {
        "id": "lgEPdDMOe_zI"
      },
      "source": [
        "from keras.models import Sequential"
      ],
      "execution_count": null,
      "outputs": []
    },
    {
      "cell_type": "code",
      "metadata": {
        "id": "QF0gwfOHe_3D"
      },
      "source": [
        "model = Sequential()"
      ],
      "execution_count": null,
      "outputs": []
    },
    {
      "cell_type": "code",
      "metadata": {
        "id": "JoroXY5ag6P_"
      },
      "source": [
        "#1-1. Adding layers\r\n",
        "#Keras layers can be added to the model\r\n",
        "#Adding layers are like stacking lego blocks one by one\r\n",
        "#Doc: https://keras.io/layers/core/"
      ],
      "execution_count": null,
      "outputs": []
    },
    {
      "cell_type": "code",
      "metadata": {
        "id": "tVjdf4LMg6TE"
      },
      "source": [
        "from keras.layers import Activation, Dense"
      ],
      "execution_count": null,
      "outputs": []
    },
    {
      "cell_type": "code",
      "metadata": {
        "id": "5-h05AIyg6aV"
      },
      "source": [
        "# Keras model with two hidden layer with 10 neurons each \r\n",
        "model.add(Dense(10, input_shape = (13,)))    # Input layer => input_shape should be explicitly designated\r\n",
        "model.add(Activation('sigmoid'))\r\n",
        "model.add(Dense(10))                         # Hidden layer => only output dimension should be designated\r\n",
        "model.add(Activation('sigmoid'))\r\n",
        "model.add(Dense(10))                         # Hidden layer => only output dimension should be designated\r\n",
        "model.add(Activation('sigmoid'))\r\n",
        "model.add(Dense(1))                          # Output layer => output dimension = 1 since it is regression problem"
      ],
      "execution_count": null,
      "outputs": []
    },
    {
      "cell_type": "code",
      "metadata": {
        "id": "Wdm4XFhSg6de"
      },
      "source": [
        " #This is equivalent to the above code block\r\n",
        "model.add(Dense(10, input_shape = (13,), activation = 'sigmoid'))\r\n",
        "model.add(Dense(10, activation = 'sigmoid'))\r\n",
        "model.add(Dense(10, activation = 'sigmoid'))\r\n",
        "model.add(Dense(1))"
      ],
      "execution_count": null,
      "outputs": []
    },
    {
      "cell_type": "code",
      "metadata": {
        "id": "x0xXEP5xhsEp"
      },
      "source": [
        "#1-2. Model compile\r\n",
        "#Keras model should be \"compiled\" prior to training\r\n",
        "#Types of loss (function) and optimizer should be designated\r\n",
        "#Doc (optimizers): https://keras.io/optimizers/\r\n",
        "#Doc (losses): https://keras.io/losses/"
      ],
      "execution_count": null,
      "outputs": []
    },
    {
      "cell_type": "code",
      "metadata": {
        "id": "GB2fILzchsHh"
      },
      "source": [
        "from keras import optimizers"
      ],
      "execution_count": null,
      "outputs": []
    },
    {
      "cell_type": "code",
      "metadata": {
        "id": "vSdVusgFhsLJ"
      },
      "source": [
        "sgd = optimizers.SGD(lr = 0.01)    # stochastic gradient descent optimizer"
      ],
      "execution_count": null,
      "outputs": []
    },
    {
      "cell_type": "code",
      "metadata": {
        "id": "lQ26MQLxiPIb"
      },
      "source": [
        "model.compile(optimizer = sgd, loss = 'mean_squared_error', metrics = ['mse'])    # for regression problems, mean squared error (MSE) is often employed"
      ],
      "execution_count": null,
      "outputs": []
    },
    {
      "cell_type": "code",
      "metadata": {
        "colab": {
          "base_uri": "https://localhost:8080/"
        },
        "id": "NLhQ4N8yiPLi",
        "outputId": "3ab252d7-8161-4946-9de7-b398ff2d0a7c"
      },
      "source": [
        "#Summary of the model\r\n",
        "model.summary()"
      ],
      "execution_count": null,
      "outputs": [
        {
          "output_type": "stream",
          "text": [
            "Model: \"sequential\"\n",
            "_________________________________________________________________\n",
            "Layer (type)                 Output Shape              Param #   \n",
            "=================================================================\n",
            "dense (Dense)                (None, 10)                140       \n",
            "_________________________________________________________________\n",
            "activation (Activation)      (None, 10)                0         \n",
            "_________________________________________________________________\n",
            "dense_1 (Dense)              (None, 10)                110       \n",
            "_________________________________________________________________\n",
            "activation_1 (Activation)    (None, 10)                0         \n",
            "_________________________________________________________________\n",
            "dense_2 (Dense)              (None, 10)                110       \n",
            "_________________________________________________________________\n",
            "activation_2 (Activation)    (None, 10)                0         \n",
            "_________________________________________________________________\n",
            "dense_3 (Dense)              (None, 1)                 11        \n",
            "_________________________________________________________________\n",
            "dense_4 (Dense)              (None, 10)                20        \n",
            "_________________________________________________________________\n",
            "dense_5 (Dense)              (None, 10)                110       \n",
            "_________________________________________________________________\n",
            "dense_6 (Dense)              (None, 10)                110       \n",
            "_________________________________________________________________\n",
            "dense_7 (Dense)              (None, 1)                 11        \n",
            "=================================================================\n",
            "Total params: 622\n",
            "Trainable params: 622\n",
            "Non-trainable params: 0\n",
            "_________________________________________________________________\n"
          ],
          "name": "stdout"
        }
      ]
    },
    {
      "cell_type": "code",
      "metadata": {
        "id": "E9jQVLvXiPP2"
      },
      "source": [
        "#2. Training\r\n",
        "#Training the model with training data provided"
      ],
      "execution_count": null,
      "outputs": []
    },
    {
      "cell_type": "code",
      "metadata": {
        "colab": {
          "base_uri": "https://localhost:8080/"
        },
        "id": "NJgwnAuaihiR",
        "outputId": "8dc20754-4105-432e-e312-0de224224e5d"
      },
      "source": [
        "model.fit(X_train, y_train, batch_size = 50, epochs = 100, verbose = 1)"
      ],
      "execution_count": null,
      "outputs": [
        {
          "output_type": "stream",
          "text": [
            "Epoch 1/100\n",
            "9/9 [==============================] - 1s 2ms/step - loss: 425.0934 - mse: 425.0934\n",
            "Epoch 2/100\n",
            "9/9 [==============================] - 0s 2ms/step - loss: 102.3792 - mse: 102.3792\n",
            "Epoch 3/100\n",
            "9/9 [==============================] - 0s 2ms/step - loss: 80.2486 - mse: 80.2486\n",
            "Epoch 4/100\n",
            "9/9 [==============================] - 0s 1ms/step - loss: 92.3000 - mse: 92.3000\n",
            "Epoch 5/100\n",
            "9/9 [==============================] - 0s 1ms/step - loss: 76.7508 - mse: 76.7508\n",
            "Epoch 6/100\n",
            "9/9 [==============================] - 0s 2ms/step - loss: 81.7403 - mse: 81.7403\n",
            "Epoch 7/100\n",
            "9/9 [==============================] - 0s 2ms/step - loss: 88.6990 - mse: 88.6990\n",
            "Epoch 8/100\n",
            "9/9 [==============================] - 0s 1ms/step - loss: 82.2477 - mse: 82.2477\n",
            "Epoch 9/100\n",
            "9/9 [==============================] - 0s 3ms/step - loss: 87.9656 - mse: 87.9656\n",
            "Epoch 10/100\n",
            "9/9 [==============================] - 0s 1ms/step - loss: 81.6455 - mse: 81.6455\n",
            "Epoch 11/100\n",
            "9/9 [==============================] - 0s 2ms/step - loss: 81.1372 - mse: 81.1372\n",
            "Epoch 12/100\n",
            "9/9 [==============================] - 0s 2ms/step - loss: 88.8659 - mse: 88.8659\n",
            "Epoch 13/100\n",
            "9/9 [==============================] - 0s 1ms/step - loss: 84.5731 - mse: 84.5731\n",
            "Epoch 14/100\n",
            "9/9 [==============================] - 0s 2ms/step - loss: 70.7263 - mse: 70.7263\n",
            "Epoch 15/100\n",
            "9/9 [==============================] - 0s 2ms/step - loss: 93.2682 - mse: 93.2682\n",
            "Epoch 16/100\n",
            "9/9 [==============================] - 0s 2ms/step - loss: 80.2019 - mse: 80.2019\n",
            "Epoch 17/100\n",
            "9/9 [==============================] - 0s 2ms/step - loss: 77.8401 - mse: 77.8401\n",
            "Epoch 18/100\n",
            "9/9 [==============================] - 0s 2ms/step - loss: 78.1341 - mse: 78.1341\n",
            "Epoch 19/100\n",
            "9/9 [==============================] - 0s 2ms/step - loss: 91.8844 - mse: 91.8844\n",
            "Epoch 20/100\n",
            "9/9 [==============================] - 0s 2ms/step - loss: 84.1425 - mse: 84.1425\n",
            "Epoch 21/100\n",
            "9/9 [==============================] - 0s 2ms/step - loss: 78.4387 - mse: 78.4387\n",
            "Epoch 22/100\n",
            "9/9 [==============================] - 0s 2ms/step - loss: 89.0946 - mse: 89.0946\n",
            "Epoch 23/100\n",
            "9/9 [==============================] - 0s 2ms/step - loss: 95.8816 - mse: 95.8816\n",
            "Epoch 24/100\n",
            "9/9 [==============================] - 0s 2ms/step - loss: 85.5871 - mse: 85.5871\n",
            "Epoch 25/100\n",
            "9/9 [==============================] - 0s 2ms/step - loss: 87.4124 - mse: 87.4124\n",
            "Epoch 26/100\n",
            "9/9 [==============================] - 0s 2ms/step - loss: 78.8860 - mse: 78.8860\n",
            "Epoch 27/100\n",
            "9/9 [==============================] - 0s 2ms/step - loss: 84.0620 - mse: 84.0620\n",
            "Epoch 28/100\n",
            "9/9 [==============================] - 0s 2ms/step - loss: 83.8243 - mse: 83.8243\n",
            "Epoch 29/100\n",
            "9/9 [==============================] - 0s 1ms/step - loss: 85.3551 - mse: 85.3551\n",
            "Epoch 30/100\n",
            "9/9 [==============================] - 0s 1ms/step - loss: 83.3257 - mse: 83.3257\n",
            "Epoch 31/100\n",
            "9/9 [==============================] - 0s 1ms/step - loss: 77.3722 - mse: 77.3722\n",
            "Epoch 32/100\n",
            "9/9 [==============================] - 0s 2ms/step - loss: 80.8020 - mse: 80.8020\n",
            "Epoch 33/100\n",
            "9/9 [==============================] - 0s 2ms/step - loss: 87.9832 - mse: 87.9832\n",
            "Epoch 34/100\n",
            "9/9 [==============================] - 0s 2ms/step - loss: 81.8939 - mse: 81.8939\n",
            "Epoch 35/100\n",
            "9/9 [==============================] - 0s 2ms/step - loss: 83.1715 - mse: 83.1715\n",
            "Epoch 36/100\n",
            "9/9 [==============================] - 0s 2ms/step - loss: 86.2546 - mse: 86.2546\n",
            "Epoch 37/100\n",
            "9/9 [==============================] - 0s 2ms/step - loss: 84.8135 - mse: 84.8135\n",
            "Epoch 38/100\n",
            "9/9 [==============================] - 0s 2ms/step - loss: 85.4969 - mse: 85.4969\n",
            "Epoch 39/100\n",
            "9/9 [==============================] - 0s 1ms/step - loss: 82.0930 - mse: 82.0930\n",
            "Epoch 40/100\n",
            "9/9 [==============================] - 0s 2ms/step - loss: 82.1909 - mse: 82.1909\n",
            "Epoch 41/100\n",
            "9/9 [==============================] - 0s 2ms/step - loss: 77.2919 - mse: 77.2919\n",
            "Epoch 42/100\n",
            "9/9 [==============================] - 0s 2ms/step - loss: 87.0242 - mse: 87.0242\n",
            "Epoch 43/100\n",
            "9/9 [==============================] - 0s 2ms/step - loss: 86.6126 - mse: 86.6126\n",
            "Epoch 44/100\n",
            "9/9 [==============================] - 0s 1ms/step - loss: 82.9522 - mse: 82.9522\n",
            "Epoch 45/100\n",
            "9/9 [==============================] - 0s 2ms/step - loss: 78.0940 - mse: 78.0940\n",
            "Epoch 46/100\n",
            "9/9 [==============================] - 0s 2ms/step - loss: 87.3102 - mse: 87.3102\n",
            "Epoch 47/100\n",
            "9/9 [==============================] - 0s 2ms/step - loss: 85.5153 - mse: 85.5153\n",
            "Epoch 48/100\n",
            "9/9 [==============================] - 0s 2ms/step - loss: 85.5081 - mse: 85.5081\n",
            "Epoch 49/100\n",
            "9/9 [==============================] - 0s 2ms/step - loss: 83.2578 - mse: 83.2578\n",
            "Epoch 50/100\n",
            "9/9 [==============================] - 0s 2ms/step - loss: 87.3398 - mse: 87.3398\n",
            "Epoch 51/100\n",
            "9/9 [==============================] - 0s 2ms/step - loss: 83.2935 - mse: 83.2935\n",
            "Epoch 52/100\n",
            "9/9 [==============================] - 0s 2ms/step - loss: 85.6953 - mse: 85.6953\n",
            "Epoch 53/100\n",
            "9/9 [==============================] - 0s 2ms/step - loss: 89.7407 - mse: 89.7407\n",
            "Epoch 54/100\n",
            "9/9 [==============================] - 0s 2ms/step - loss: 90.4084 - mse: 90.4084\n",
            "Epoch 55/100\n",
            "9/9 [==============================] - 0s 2ms/step - loss: 86.1717 - mse: 86.1717\n",
            "Epoch 56/100\n",
            "9/9 [==============================] - 0s 2ms/step - loss: 89.5822 - mse: 89.5822\n",
            "Epoch 57/100\n",
            "9/9 [==============================] - 0s 2ms/step - loss: 74.8782 - mse: 74.8782\n",
            "Epoch 58/100\n",
            "9/9 [==============================] - 0s 2ms/step - loss: 80.1204 - mse: 80.1204\n",
            "Epoch 59/100\n",
            "9/9 [==============================] - 0s 2ms/step - loss: 78.2761 - mse: 78.2761\n",
            "Epoch 60/100\n",
            "9/9 [==============================] - 0s 2ms/step - loss: 96.7613 - mse: 96.7613\n",
            "Epoch 61/100\n",
            "9/9 [==============================] - 0s 2ms/step - loss: 78.0214 - mse: 78.0214\n",
            "Epoch 62/100\n",
            "9/9 [==============================] - 0s 2ms/step - loss: 83.0055 - mse: 83.0055\n",
            "Epoch 63/100\n",
            "9/9 [==============================] - 0s 2ms/step - loss: 77.6897 - mse: 77.6897\n",
            "Epoch 64/100\n",
            "9/9 [==============================] - 0s 2ms/step - loss: 83.1392 - mse: 83.1392\n",
            "Epoch 65/100\n",
            "9/9 [==============================] - 0s 2ms/step - loss: 91.1286 - mse: 91.1286\n",
            "Epoch 66/100\n",
            "9/9 [==============================] - 0s 2ms/step - loss: 84.4033 - mse: 84.4033\n",
            "Epoch 67/100\n",
            "9/9 [==============================] - 0s 2ms/step - loss: 88.6977 - mse: 88.6977\n",
            "Epoch 68/100\n",
            "9/9 [==============================] - 0s 2ms/step - loss: 82.8716 - mse: 82.8716\n",
            "Epoch 69/100\n",
            "9/9 [==============================] - 0s 2ms/step - loss: 77.6643 - mse: 77.6643\n",
            "Epoch 70/100\n",
            "9/9 [==============================] - 0s 2ms/step - loss: 78.0206 - mse: 78.0206\n",
            "Epoch 71/100\n",
            "9/9 [==============================] - 0s 2ms/step - loss: 95.4442 - mse: 95.4442\n",
            "Epoch 72/100\n",
            "9/9 [==============================] - 0s 2ms/step - loss: 83.2745 - mse: 83.2745\n",
            "Epoch 73/100\n",
            "9/9 [==============================] - 0s 2ms/step - loss: 88.1507 - mse: 88.1507\n",
            "Epoch 74/100\n",
            "9/9 [==============================] - 0s 2ms/step - loss: 84.6748 - mse: 84.6748\n",
            "Epoch 75/100\n",
            "9/9 [==============================] - 0s 2ms/step - loss: 91.4405 - mse: 91.4405\n",
            "Epoch 76/100\n",
            "9/9 [==============================] - 0s 2ms/step - loss: 95.6058 - mse: 95.6058\n",
            "Epoch 77/100\n",
            "9/9 [==============================] - 0s 2ms/step - loss: 90.7001 - mse: 90.7001\n",
            "Epoch 78/100\n",
            "9/9 [==============================] - 0s 2ms/step - loss: 85.7444 - mse: 85.7444\n",
            "Epoch 79/100\n",
            "9/9 [==============================] - 0s 2ms/step - loss: 82.5261 - mse: 82.5261\n",
            "Epoch 80/100\n",
            "9/9 [==============================] - 0s 2ms/step - loss: 86.9192 - mse: 86.9192\n",
            "Epoch 81/100\n",
            "9/9 [==============================] - 0s 2ms/step - loss: 83.5409 - mse: 83.5409\n",
            "Epoch 82/100\n",
            "9/9 [==============================] - 0s 2ms/step - loss: 82.5996 - mse: 82.5996\n",
            "Epoch 83/100\n",
            "9/9 [==============================] - 0s 2ms/step - loss: 81.8522 - mse: 81.8522\n",
            "Epoch 84/100\n",
            "9/9 [==============================] - 0s 2ms/step - loss: 82.0806 - mse: 82.0806\n",
            "Epoch 85/100\n",
            "9/9 [==============================] - 0s 2ms/step - loss: 84.2185 - mse: 84.2185\n",
            "Epoch 86/100\n",
            "9/9 [==============================] - 0s 2ms/step - loss: 83.2195 - mse: 83.2195\n",
            "Epoch 87/100\n",
            "9/9 [==============================] - 0s 2ms/step - loss: 73.2731 - mse: 73.2731\n",
            "Epoch 88/100\n",
            "9/9 [==============================] - 0s 2ms/step - loss: 92.3031 - mse: 92.3031\n",
            "Epoch 89/100\n",
            "9/9 [==============================] - 0s 2ms/step - loss: 84.7248 - mse: 84.7248\n",
            "Epoch 90/100\n",
            "9/9 [==============================] - 0s 2ms/step - loss: 82.9356 - mse: 82.9356\n",
            "Epoch 91/100\n",
            "9/9 [==============================] - 0s 2ms/step - loss: 74.9955 - mse: 74.9955\n",
            "Epoch 92/100\n",
            "9/9 [==============================] - 0s 2ms/step - loss: 85.6737 - mse: 85.6737\n",
            "Epoch 93/100\n",
            "9/9 [==============================] - 0s 2ms/step - loss: 86.1597 - mse: 86.1597\n",
            "Epoch 94/100\n",
            "9/9 [==============================] - 0s 2ms/step - loss: 92.5116 - mse: 92.5116\n",
            "Epoch 95/100\n",
            "9/9 [==============================] - 0s 2ms/step - loss: 82.3527 - mse: 82.3527\n",
            "Epoch 96/100\n",
            "9/9 [==============================] - 0s 2ms/step - loss: 93.3996 - mse: 93.3996\n",
            "Epoch 97/100\n",
            "9/9 [==============================] - 0s 2ms/step - loss: 75.5404 - mse: 75.5404\n",
            "Epoch 98/100\n",
            "9/9 [==============================] - 0s 2ms/step - loss: 93.0492 - mse: 93.0492\n",
            "Epoch 99/100\n",
            "9/9 [==============================] - 0s 2ms/step - loss: 88.4440 - mse: 88.4440\n",
            "Epoch 100/100\n",
            "9/9 [==============================] - 0s 2ms/step - loss: 87.4491 - mse: 87.4491\n"
          ],
          "name": "stdout"
        },
        {
          "output_type": "execute_result",
          "data": {
            "text/plain": [
              "<tensorflow.python.keras.callbacks.History at 0x7f4d97d8f750>"
            ]
          },
          "metadata": {
            "tags": []
          },
          "execution_count": 35
        }
      ]
    },
    {
      "cell_type": "code",
      "metadata": {
        "id": "2o_17ptiihl1"
      },
      "source": [
        " ## 3.Evaluation\r\n",
        "#Keras model can be evaluated with evaluate() function\r\n",
        "#Evaluation results are contained in a list\r\n",
        "#Doc (metrics): https://keras.io/metrics/"
      ],
      "execution_count": null,
      "outputs": []
    },
    {
      "cell_type": "code",
      "metadata": {
        "colab": {
          "base_uri": "https://localhost:8080/"
        },
        "id": "MyW191nwihrE",
        "outputId": "df31fc75-b96c-4693-f1d8-5bd48dba7d19"
      },
      "source": [
        "results = model.evaluate(X_test, y_test)"
      ],
      "execution_count": null,
      "outputs": [
        {
          "output_type": "stream",
          "text": [
            "4/4 [==============================] - 0s 2ms/step - loss: 86.5172 - mse: 86.5172\n"
          ],
          "name": "stdout"
        }
      ]
    },
    {
      "cell_type": "code",
      "metadata": {
        "colab": {
          "base_uri": "https://localhost:8080/"
        },
        "id": "oog_jsP1i4AL",
        "outputId": "aa6d4684-11df-45f5-fed5-5ffb17c6bec6"
      },
      "source": [
        "print(model.metrics_names)     # list of metric names the model is employing\r\n",
        "print(results)                 # actual figure of metrics computed"
      ],
      "execution_count": null,
      "outputs": [
        {
          "output_type": "stream",
          "text": [
            "['loss', 'mse']\n",
            "[86.51717376708984, 86.51717376708984]\n"
          ],
          "name": "stdout"
        }
      ]
    },
    {
      "cell_type": "code",
      "metadata": {
        "colab": {
          "base_uri": "https://localhost:8080/"
        },
        "id": "n7BfoOS4i4GU",
        "outputId": "a277cb95-8d3b-4d72-c30c-db74f1532ea3"
      },
      "source": [
        "print('loss: ', results[0])\r\n",
        "print('mse: ', results[1])"
      ],
      "execution_count": null,
      "outputs": [
        {
          "output_type": "stream",
          "text": [
            "loss:  86.51717376708984\n",
            "mse:  86.51717376708984\n"
          ],
          "name": "stdout"
        }
      ]
    },
    {
      "cell_type": "code",
      "metadata": {
        "id": "w78mf4jzjCBb"
      },
      "source": [
        "#MLP for classification tasks\r\n",
        "#When the target (y) is discrete (categorical)\r\n",
        "#For loss function, cross-entropy is used and for evaluation metric, accuracy is commonly used"
      ],
      "execution_count": null,
      "outputs": []
    },
    {
      "cell_type": "code",
      "metadata": {
        "id": "wCRXvpMkjCEn"
      },
      "source": [
        "from sklearn.datasets import load_breast_cancer\r\n",
        "from sklearn.model_selection import train_test_split"
      ],
      "execution_count": null,
      "outputs": []
    },
    {
      "cell_type": "code",
      "metadata": {
        "id": "s0xfqC84jCHi"
      },
      "source": [
        "whole_data = load_breast_cancer()"
      ],
      "execution_count": null,
      "outputs": []
    },
    {
      "cell_type": "code",
      "metadata": {
        "id": "AUKorStejN0K"
      },
      "source": [
        "X_data = whole_data.data\r\n",
        "y_data = whole_data.target"
      ],
      "execution_count": null,
      "outputs": []
    },
    {
      "cell_type": "code",
      "metadata": {
        "id": "ulkRzjyQjN3t"
      },
      "source": [
        "X_train, X_test, y_train, y_test = train_test_split(X_data, y_data, test_size = 0.3, random_state = 7)"
      ],
      "execution_count": null,
      "outputs": []
    },
    {
      "cell_type": "code",
      "metadata": {
        "id": "Pv1eJQtnjN6L"
      },
      "source": [
        "#Dataset Description\r\n",
        "#Breast cancer dataset has total 569 data instances (212 malign, 357 benign instances)\r\n",
        "#30 attributes (features) to predict the binary class (M/B)\r\n",
        "#Doc: http://scikit-learn.org/stable/modules/generated/sklearn.datasets.load_breast_cancer.html#sklearn.datasets.load_breast_cancer"
      ],
      "execution_count": null,
      "outputs": []
    },
    {
      "cell_type": "code",
      "metadata": {
        "colab": {
          "base_uri": "https://localhost:8080/",
          "height": 680
        },
        "id": "IobaQvq_jN9I",
        "outputId": "70b33273-2e5b-4bb3-805a-97e79115b294"
      },
      "source": [
        " results = model.evaluate(X_test, y_test)"
      ],
      "execution_count": null,
      "outputs": [
        {
          "output_type": "error",
          "ename": "ValueError",
          "evalue": "ignored",
          "traceback": [
            "\u001b[0;31m---------------------------------------------------------------------------\u001b[0m",
            "\u001b[0;31mValueError\u001b[0m                                Traceback (most recent call last)",
            "\u001b[0;32m<ipython-input-54-ad75aef1a655>\u001b[0m in \u001b[0;36m<module>\u001b[0;34m()\u001b[0m\n\u001b[0;32m----> 1\u001b[0;31m \u001b[0mresults\u001b[0m \u001b[0;34m=\u001b[0m \u001b[0mmodel\u001b[0m\u001b[0;34m.\u001b[0m\u001b[0mevaluate\u001b[0m\u001b[0;34m(\u001b[0m\u001b[0mX_test\u001b[0m\u001b[0;34m,\u001b[0m \u001b[0my_test\u001b[0m\u001b[0;34m)\u001b[0m\u001b[0;34m\u001b[0m\u001b[0;34m\u001b[0m\u001b[0m\n\u001b[0m",
            "\u001b[0;32m/usr/local/lib/python3.7/dist-packages/tensorflow/python/keras/engine/training.py\u001b[0m in \u001b[0;36mevaluate\u001b[0;34m(self, x, y, batch_size, verbose, sample_weight, steps, callbacks, max_queue_size, workers, use_multiprocessing, return_dict)\u001b[0m\n\u001b[1;32m   1387\u001b[0m             \u001b[0;32mwith\u001b[0m \u001b[0mtrace\u001b[0m\u001b[0;34m.\u001b[0m\u001b[0mTrace\u001b[0m\u001b[0;34m(\u001b[0m\u001b[0;34m'test'\u001b[0m\u001b[0;34m,\u001b[0m \u001b[0mstep_num\u001b[0m\u001b[0;34m=\u001b[0m\u001b[0mstep\u001b[0m\u001b[0;34m,\u001b[0m \u001b[0m_r\u001b[0m\u001b[0;34m=\u001b[0m\u001b[0;36m1\u001b[0m\u001b[0;34m)\u001b[0m\u001b[0;34m:\u001b[0m\u001b[0;34m\u001b[0m\u001b[0;34m\u001b[0m\u001b[0m\n\u001b[1;32m   1388\u001b[0m               \u001b[0mcallbacks\u001b[0m\u001b[0;34m.\u001b[0m\u001b[0mon_test_batch_begin\u001b[0m\u001b[0;34m(\u001b[0m\u001b[0mstep\u001b[0m\u001b[0;34m)\u001b[0m\u001b[0;34m\u001b[0m\u001b[0;34m\u001b[0m\u001b[0m\n\u001b[0;32m-> 1389\u001b[0;31m               \u001b[0mtmp_logs\u001b[0m \u001b[0;34m=\u001b[0m \u001b[0mself\u001b[0m\u001b[0;34m.\u001b[0m\u001b[0mtest_function\u001b[0m\u001b[0;34m(\u001b[0m\u001b[0miterator\u001b[0m\u001b[0;34m)\u001b[0m\u001b[0;34m\u001b[0m\u001b[0;34m\u001b[0m\u001b[0m\n\u001b[0m\u001b[1;32m   1390\u001b[0m               \u001b[0;32mif\u001b[0m \u001b[0mdata_handler\u001b[0m\u001b[0;34m.\u001b[0m\u001b[0mshould_sync\u001b[0m\u001b[0;34m:\u001b[0m\u001b[0;34m\u001b[0m\u001b[0;34m\u001b[0m\u001b[0m\n\u001b[1;32m   1391\u001b[0m                 \u001b[0mcontext\u001b[0m\u001b[0;34m.\u001b[0m\u001b[0masync_wait\u001b[0m\u001b[0;34m(\u001b[0m\u001b[0;34m)\u001b[0m\u001b[0;34m\u001b[0m\u001b[0;34m\u001b[0m\u001b[0m\n",
            "\u001b[0;32m/usr/local/lib/python3.7/dist-packages/tensorflow/python/eager/def_function.py\u001b[0m in \u001b[0;36m__call__\u001b[0;34m(self, *args, **kwds)\u001b[0m\n\u001b[1;32m    826\u001b[0m     \u001b[0mtracing_count\u001b[0m \u001b[0;34m=\u001b[0m \u001b[0mself\u001b[0m\u001b[0;34m.\u001b[0m\u001b[0mexperimental_get_tracing_count\u001b[0m\u001b[0;34m(\u001b[0m\u001b[0;34m)\u001b[0m\u001b[0;34m\u001b[0m\u001b[0;34m\u001b[0m\u001b[0m\n\u001b[1;32m    827\u001b[0m     \u001b[0;32mwith\u001b[0m \u001b[0mtrace\u001b[0m\u001b[0;34m.\u001b[0m\u001b[0mTrace\u001b[0m\u001b[0;34m(\u001b[0m\u001b[0mself\u001b[0m\u001b[0;34m.\u001b[0m\u001b[0m_name\u001b[0m\u001b[0;34m)\u001b[0m \u001b[0;32mas\u001b[0m \u001b[0mtm\u001b[0m\u001b[0;34m:\u001b[0m\u001b[0;34m\u001b[0m\u001b[0;34m\u001b[0m\u001b[0m\n\u001b[0;32m--> 828\u001b[0;31m       \u001b[0mresult\u001b[0m \u001b[0;34m=\u001b[0m \u001b[0mself\u001b[0m\u001b[0;34m.\u001b[0m\u001b[0m_call\u001b[0m\u001b[0;34m(\u001b[0m\u001b[0;34m*\u001b[0m\u001b[0margs\u001b[0m\u001b[0;34m,\u001b[0m \u001b[0;34m**\u001b[0m\u001b[0mkwds\u001b[0m\u001b[0;34m)\u001b[0m\u001b[0;34m\u001b[0m\u001b[0;34m\u001b[0m\u001b[0m\n\u001b[0m\u001b[1;32m    829\u001b[0m       \u001b[0mcompiler\u001b[0m \u001b[0;34m=\u001b[0m \u001b[0;34m\"xla\"\u001b[0m \u001b[0;32mif\u001b[0m \u001b[0mself\u001b[0m\u001b[0;34m.\u001b[0m\u001b[0m_experimental_compile\u001b[0m \u001b[0;32melse\u001b[0m \u001b[0;34m\"nonXla\"\u001b[0m\u001b[0;34m\u001b[0m\u001b[0;34m\u001b[0m\u001b[0m\n\u001b[1;32m    830\u001b[0m       \u001b[0mnew_tracing_count\u001b[0m \u001b[0;34m=\u001b[0m \u001b[0mself\u001b[0m\u001b[0;34m.\u001b[0m\u001b[0mexperimental_get_tracing_count\u001b[0m\u001b[0;34m(\u001b[0m\u001b[0;34m)\u001b[0m\u001b[0;34m\u001b[0m\u001b[0;34m\u001b[0m\u001b[0m\n",
            "\u001b[0;32m/usr/local/lib/python3.7/dist-packages/tensorflow/python/eager/def_function.py\u001b[0m in \u001b[0;36m_call\u001b[0;34m(self, *args, **kwds)\u001b[0m\n\u001b[1;32m    860\u001b[0m       \u001b[0;31m# In this case we have not created variables on the first call. So we can\u001b[0m\u001b[0;34m\u001b[0m\u001b[0;34m\u001b[0m\u001b[0;34m\u001b[0m\u001b[0m\n\u001b[1;32m    861\u001b[0m       \u001b[0;31m# run the first trace but we should fail if variables are created.\u001b[0m\u001b[0;34m\u001b[0m\u001b[0;34m\u001b[0m\u001b[0;34m\u001b[0m\u001b[0m\n\u001b[0;32m--> 862\u001b[0;31m       \u001b[0mresults\u001b[0m \u001b[0;34m=\u001b[0m \u001b[0mself\u001b[0m\u001b[0;34m.\u001b[0m\u001b[0m_stateful_fn\u001b[0m\u001b[0;34m(\u001b[0m\u001b[0;34m*\u001b[0m\u001b[0margs\u001b[0m\u001b[0;34m,\u001b[0m \u001b[0;34m**\u001b[0m\u001b[0mkwds\u001b[0m\u001b[0;34m)\u001b[0m\u001b[0;34m\u001b[0m\u001b[0;34m\u001b[0m\u001b[0m\n\u001b[0m\u001b[1;32m    863\u001b[0m       \u001b[0;32mif\u001b[0m \u001b[0mself\u001b[0m\u001b[0;34m.\u001b[0m\u001b[0m_created_variables\u001b[0m\u001b[0;34m:\u001b[0m\u001b[0;34m\u001b[0m\u001b[0;34m\u001b[0m\u001b[0m\n\u001b[1;32m    864\u001b[0m         raise ValueError(\"Creating variables on a non-first call to a function\"\n",
            "\u001b[0;32m/usr/local/lib/python3.7/dist-packages/tensorflow/python/eager/function.py\u001b[0m in \u001b[0;36m__call__\u001b[0;34m(self, *args, **kwargs)\u001b[0m\n\u001b[1;32m   2939\u001b[0m     \u001b[0;32mwith\u001b[0m \u001b[0mself\u001b[0m\u001b[0;34m.\u001b[0m\u001b[0m_lock\u001b[0m\u001b[0;34m:\u001b[0m\u001b[0;34m\u001b[0m\u001b[0;34m\u001b[0m\u001b[0m\n\u001b[1;32m   2940\u001b[0m       (graph_function,\n\u001b[0;32m-> 2941\u001b[0;31m        filtered_flat_args) = self._maybe_define_function(args, kwargs)\n\u001b[0m\u001b[1;32m   2942\u001b[0m     return graph_function._call_flat(\n\u001b[1;32m   2943\u001b[0m         filtered_flat_args, captured_inputs=graph_function.captured_inputs)  # pylint: disable=protected-access\n",
            "\u001b[0;32m/usr/local/lib/python3.7/dist-packages/tensorflow/python/eager/function.py\u001b[0m in \u001b[0;36m_maybe_define_function\u001b[0;34m(self, args, kwargs)\u001b[0m\n\u001b[1;32m   3356\u001b[0m               call_context_key in self._function_cache.missed):\n\u001b[1;32m   3357\u001b[0m             return self._define_function_with_shape_relaxation(\n\u001b[0;32m-> 3358\u001b[0;31m                 args, kwargs, flat_args, filtered_flat_args, cache_key_context)\n\u001b[0m\u001b[1;32m   3359\u001b[0m \u001b[0;34m\u001b[0m\u001b[0m\n\u001b[1;32m   3360\u001b[0m           \u001b[0mself\u001b[0m\u001b[0;34m.\u001b[0m\u001b[0m_function_cache\u001b[0m\u001b[0;34m.\u001b[0m\u001b[0mmissed\u001b[0m\u001b[0;34m.\u001b[0m\u001b[0madd\u001b[0m\u001b[0;34m(\u001b[0m\u001b[0mcall_context_key\u001b[0m\u001b[0;34m)\u001b[0m\u001b[0;34m\u001b[0m\u001b[0;34m\u001b[0m\u001b[0m\n",
            "\u001b[0;32m/usr/local/lib/python3.7/dist-packages/tensorflow/python/eager/function.py\u001b[0m in \u001b[0;36m_define_function_with_shape_relaxation\u001b[0;34m(self, args, kwargs, flat_args, filtered_flat_args, cache_key_context)\u001b[0m\n\u001b[1;32m   3278\u001b[0m \u001b[0;34m\u001b[0m\u001b[0m\n\u001b[1;32m   3279\u001b[0m     graph_function = self._create_graph_function(\n\u001b[0;32m-> 3280\u001b[0;31m         args, kwargs, override_flat_arg_shapes=relaxed_arg_shapes)\n\u001b[0m\u001b[1;32m   3281\u001b[0m     \u001b[0mself\u001b[0m\u001b[0;34m.\u001b[0m\u001b[0m_function_cache\u001b[0m\u001b[0;34m.\u001b[0m\u001b[0marg_relaxed\u001b[0m\u001b[0;34m[\u001b[0m\u001b[0mrank_only_cache_key\u001b[0m\u001b[0;34m]\u001b[0m \u001b[0;34m=\u001b[0m \u001b[0mgraph_function\u001b[0m\u001b[0;34m\u001b[0m\u001b[0;34m\u001b[0m\u001b[0m\n\u001b[1;32m   3282\u001b[0m \u001b[0;34m\u001b[0m\u001b[0m\n",
            "\u001b[0;32m/usr/local/lib/python3.7/dist-packages/tensorflow/python/eager/function.py\u001b[0m in \u001b[0;36m_create_graph_function\u001b[0;34m(self, args, kwargs, override_flat_arg_shapes)\u001b[0m\n\u001b[1;32m   3204\u001b[0m             \u001b[0marg_names\u001b[0m\u001b[0;34m=\u001b[0m\u001b[0marg_names\u001b[0m\u001b[0;34m,\u001b[0m\u001b[0;34m\u001b[0m\u001b[0;34m\u001b[0m\u001b[0m\n\u001b[1;32m   3205\u001b[0m             \u001b[0moverride_flat_arg_shapes\u001b[0m\u001b[0;34m=\u001b[0m\u001b[0moverride_flat_arg_shapes\u001b[0m\u001b[0;34m,\u001b[0m\u001b[0;34m\u001b[0m\u001b[0;34m\u001b[0m\u001b[0m\n\u001b[0;32m-> 3206\u001b[0;31m             capture_by_value=self._capture_by_value),\n\u001b[0m\u001b[1;32m   3207\u001b[0m         \u001b[0mself\u001b[0m\u001b[0;34m.\u001b[0m\u001b[0m_function_attributes\u001b[0m\u001b[0;34m,\u001b[0m\u001b[0;34m\u001b[0m\u001b[0;34m\u001b[0m\u001b[0m\n\u001b[1;32m   3208\u001b[0m         \u001b[0mfunction_spec\u001b[0m\u001b[0;34m=\u001b[0m\u001b[0mself\u001b[0m\u001b[0;34m.\u001b[0m\u001b[0mfunction_spec\u001b[0m\u001b[0;34m,\u001b[0m\u001b[0;34m\u001b[0m\u001b[0;34m\u001b[0m\u001b[0m\n",
            "\u001b[0;32m/usr/local/lib/python3.7/dist-packages/tensorflow/python/framework/func_graph.py\u001b[0m in \u001b[0;36mfunc_graph_from_py_func\u001b[0;34m(name, python_func, args, kwargs, signature, func_graph, autograph, autograph_options, add_control_dependencies, arg_names, op_return_value, collections, capture_by_value, override_flat_arg_shapes)\u001b[0m\n\u001b[1;32m    988\u001b[0m         \u001b[0m_\u001b[0m\u001b[0;34m,\u001b[0m \u001b[0moriginal_func\u001b[0m \u001b[0;34m=\u001b[0m \u001b[0mtf_decorator\u001b[0m\u001b[0;34m.\u001b[0m\u001b[0munwrap\u001b[0m\u001b[0;34m(\u001b[0m\u001b[0mpython_func\u001b[0m\u001b[0;34m)\u001b[0m\u001b[0;34m\u001b[0m\u001b[0;34m\u001b[0m\u001b[0m\n\u001b[1;32m    989\u001b[0m \u001b[0;34m\u001b[0m\u001b[0m\n\u001b[0;32m--> 990\u001b[0;31m       \u001b[0mfunc_outputs\u001b[0m \u001b[0;34m=\u001b[0m \u001b[0mpython_func\u001b[0m\u001b[0;34m(\u001b[0m\u001b[0;34m*\u001b[0m\u001b[0mfunc_args\u001b[0m\u001b[0;34m,\u001b[0m \u001b[0;34m**\u001b[0m\u001b[0mfunc_kwargs\u001b[0m\u001b[0;34m)\u001b[0m\u001b[0;34m\u001b[0m\u001b[0;34m\u001b[0m\u001b[0m\n\u001b[0m\u001b[1;32m    991\u001b[0m \u001b[0;34m\u001b[0m\u001b[0m\n\u001b[1;32m    992\u001b[0m       \u001b[0;31m# invariant: `func_outputs` contains only Tensors, CompositeTensors,\u001b[0m\u001b[0;34m\u001b[0m\u001b[0;34m\u001b[0m\u001b[0;34m\u001b[0m\u001b[0m\n",
            "\u001b[0;32m/usr/local/lib/python3.7/dist-packages/tensorflow/python/eager/def_function.py\u001b[0m in \u001b[0;36mwrapped_fn\u001b[0;34m(*args, **kwds)\u001b[0m\n\u001b[1;32m    632\u001b[0m             \u001b[0mxla_context\u001b[0m\u001b[0;34m.\u001b[0m\u001b[0mExit\u001b[0m\u001b[0;34m(\u001b[0m\u001b[0;34m)\u001b[0m\u001b[0;34m\u001b[0m\u001b[0;34m\u001b[0m\u001b[0m\n\u001b[1;32m    633\u001b[0m         \u001b[0;32melse\u001b[0m\u001b[0;34m:\u001b[0m\u001b[0;34m\u001b[0m\u001b[0;34m\u001b[0m\u001b[0m\n\u001b[0;32m--> 634\u001b[0;31m           \u001b[0mout\u001b[0m \u001b[0;34m=\u001b[0m \u001b[0mweak_wrapped_fn\u001b[0m\u001b[0;34m(\u001b[0m\u001b[0;34m)\u001b[0m\u001b[0;34m.\u001b[0m\u001b[0m__wrapped__\u001b[0m\u001b[0;34m(\u001b[0m\u001b[0;34m*\u001b[0m\u001b[0margs\u001b[0m\u001b[0;34m,\u001b[0m \u001b[0;34m**\u001b[0m\u001b[0mkwds\u001b[0m\u001b[0;34m)\u001b[0m\u001b[0;34m\u001b[0m\u001b[0;34m\u001b[0m\u001b[0m\n\u001b[0m\u001b[1;32m    635\u001b[0m         \u001b[0;32mreturn\u001b[0m \u001b[0mout\u001b[0m\u001b[0;34m\u001b[0m\u001b[0;34m\u001b[0m\u001b[0m\n\u001b[1;32m    636\u001b[0m \u001b[0;34m\u001b[0m\u001b[0m\n",
            "\u001b[0;32m/usr/local/lib/python3.7/dist-packages/tensorflow/python/framework/func_graph.py\u001b[0m in \u001b[0;36mwrapper\u001b[0;34m(*args, **kwargs)\u001b[0m\n\u001b[1;32m    975\u001b[0m           \u001b[0;32mexcept\u001b[0m \u001b[0mException\u001b[0m \u001b[0;32mas\u001b[0m \u001b[0me\u001b[0m\u001b[0;34m:\u001b[0m  \u001b[0;31m# pylint:disable=broad-except\u001b[0m\u001b[0;34m\u001b[0m\u001b[0;34m\u001b[0m\u001b[0m\n\u001b[1;32m    976\u001b[0m             \u001b[0;32mif\u001b[0m \u001b[0mhasattr\u001b[0m\u001b[0;34m(\u001b[0m\u001b[0me\u001b[0m\u001b[0;34m,\u001b[0m \u001b[0;34m\"ag_error_metadata\"\u001b[0m\u001b[0;34m)\u001b[0m\u001b[0;34m:\u001b[0m\u001b[0;34m\u001b[0m\u001b[0;34m\u001b[0m\u001b[0m\n\u001b[0;32m--> 977\u001b[0;31m               \u001b[0;32mraise\u001b[0m \u001b[0me\u001b[0m\u001b[0;34m.\u001b[0m\u001b[0mag_error_metadata\u001b[0m\u001b[0;34m.\u001b[0m\u001b[0mto_exception\u001b[0m\u001b[0;34m(\u001b[0m\u001b[0me\u001b[0m\u001b[0;34m)\u001b[0m\u001b[0;34m\u001b[0m\u001b[0;34m\u001b[0m\u001b[0m\n\u001b[0m\u001b[1;32m    978\u001b[0m             \u001b[0;32melse\u001b[0m\u001b[0;34m:\u001b[0m\u001b[0;34m\u001b[0m\u001b[0;34m\u001b[0m\u001b[0m\n\u001b[1;32m    979\u001b[0m               \u001b[0;32mraise\u001b[0m\u001b[0;34m\u001b[0m\u001b[0;34m\u001b[0m\u001b[0m\n",
            "\u001b[0;31mValueError\u001b[0m: in user code:\n\n    /usr/local/lib/python3.7/dist-packages/tensorflow/python/keras/engine/training.py:1233 test_function  *\n        return step_function(self, iterator)\n    /usr/local/lib/python3.7/dist-packages/tensorflow/python/keras/engine/training.py:1224 step_function  **\n        outputs = model.distribute_strategy.run(run_step, args=(data,))\n    /usr/local/lib/python3.7/dist-packages/tensorflow/python/distribute/distribute_lib.py:1259 run\n        return self._extended.call_for_each_replica(fn, args=args, kwargs=kwargs)\n    /usr/local/lib/python3.7/dist-packages/tensorflow/python/distribute/distribute_lib.py:2730 call_for_each_replica\n        return self._call_for_each_replica(fn, args, kwargs)\n    /usr/local/lib/python3.7/dist-packages/tensorflow/python/distribute/distribute_lib.py:3417 _call_for_each_replica\n        return fn(*args, **kwargs)\n    /usr/local/lib/python3.7/dist-packages/tensorflow/python/keras/engine/training.py:1217 run_step  **\n        outputs = model.test_step(data)\n    /usr/local/lib/python3.7/dist-packages/tensorflow/python/keras/engine/training.py:1183 test_step\n        y_pred = self(x, training=False)\n    /usr/local/lib/python3.7/dist-packages/tensorflow/python/keras/engine/base_layer.py:998 __call__\n        input_spec.assert_input_compatibility(self.input_spec, inputs, self.name)\n    /usr/local/lib/python3.7/dist-packages/tensorflow/python/keras/engine/input_spec.py:259 assert_input_compatibility\n        ' but received input with shape ' + display_shape(x.shape))\n\n    ValueError: Input 0 of layer sequential is incompatible with the layer: expected axis -1 of input shape to have value 13 but received input with shape (None, 30)\n"
          ]
        }
      ]
    },
    {
      "cell_type": "code",
      "metadata": {
        "colab": {
          "base_uri": "https://localhost:8080/"
        },
        "id": "KlPTA_jJjN_-",
        "outputId": "5ea77337-90a2-44cc-e0ef-c3fdf4285800"
      },
      "source": [
        "print(model.metrics_names)     # list of metric names the model is employing\r\n",
        "print(results)                 # actual figure of metrics computed"
      ],
      "execution_count": null,
      "outputs": [
        {
          "output_type": "stream",
          "text": [
            "['loss', 'mse']\n",
            "[86.51717376708984, 86.51717376708984]\n"
          ],
          "name": "stdout"
        }
      ]
    },
    {
      "cell_type": "code",
      "metadata": {
        "colab": {
          "base_uri": "https://localhost:8080/"
        },
        "id": "oVsle-pytuik",
        "outputId": "e71277fc-08ae-406e-c1bb-e70c129d2c67"
      },
      "source": [
        "print('loss: ', results[0])\r\n",
        "print('accuracy: ', results[1])"
      ],
      "execution_count": null,
      "outputs": [
        {
          "output_type": "stream",
          "text": [
            "loss:  86.51717376708984\n",
            "accuracy:  86.51717376708984\n"
          ],
          "name": "stdout"
        }
      ]
    }
  ]
}