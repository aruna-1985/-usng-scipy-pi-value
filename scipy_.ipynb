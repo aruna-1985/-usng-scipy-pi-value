{
  "nbformat": 4,
  "nbformat_minor": 0,
  "metadata": {
    "colab": {
      "name": "scipy .ipynb",
      "provenance": [],
      "authorship_tag": "ABX9TyNak2LMjjf5Gz5n0KjQFokP",
      "include_colab_link": true
    },
    "kernelspec": {
      "name": "python3",
      "display_name": "Python 3"
    }
  },
  "cells": [
    {
      "cell_type": "markdown",
      "metadata": {
        "id": "view-in-github",
        "colab_type": "text"
      },
      "source": [
        "<a href=\"https://colab.research.google.com/github/aruna-1985/-usng-scipy-pi-value/blob/master/scipy_.ipynb\" target=\"_parent\"><img src=\"https://colab.research.google.com/assets/colab-badge.svg\" alt=\"Open In Colab\"/></a>"
      ]
    },
    {
      "cell_type": "code",
      "metadata": {
        "id": "vyn1kYDZHZy5",
        "colab_type": "code",
        "colab": {
          "base_uri": "https://localhost:8080/",
          "height": 51
        },
        "outputId": "68e02648-7f0a-42e5-a129-9275788c5806"
      },
      "source": [
        "#Import pi constant from the scipy   \n",
        "from scipy.constants import pi  \n",
        "import scipy\n",
        "#Import pi from math package \n",
        "import math\n",
        "from math import pi  \n",
        "#Comparing these two pi value  \n",
        "print(\"sciPy - pi Value = %.18f\"%scipy.constants.pi)  \n",
        "print(\"math - pi Value = %.18f\"%math.pi) "
      ],
      "execution_count": null,
      "outputs": [
        {
          "output_type": "stream",
          "text": [
            "sciPy - pi Value = 3.141592653589793116\n",
            "math - pi Value = 3.141592653589793116\n"
          ],
          "name": "stdout"
        }
      ]
    }
  ]
}